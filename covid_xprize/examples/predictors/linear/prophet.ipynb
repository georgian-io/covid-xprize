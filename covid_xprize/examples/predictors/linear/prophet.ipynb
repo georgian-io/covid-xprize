{
 "cells": [
  {
   "cell_type": "markdown",
   "metadata": {},
   "source": [
    "# Prophet predictor\n",
    "This notebook contains a timeseries predictor model built with the fbprophet library. "
   ]
  },
  {
   "cell_type": "markdown",
   "metadata": {},
   "source": [
    "## Training"
   ]
  },
  {
   "cell_type": "code",
   "execution_count": 1,
   "metadata": {},
   "outputs": [],
   "source": [
    "import numpy as np\n",
    "import pandas as pd\n",
    "pd.options.mode.chained_assignment = None  # default='warn'"
   ]
  },
  {
   "cell_type": "markdown",
   "metadata": {},
   "source": [
    "### Copy the data locally"
   ]
  },
  {
   "cell_type": "code",
   "execution_count": 2,
   "metadata": {},
   "outputs": [],
   "source": [
    "# Main source for the training data\n",
    "DATA_URL = 'https://raw.githubusercontent.com/OxCGRT/covid-policy-tracker/master/data/OxCGRT_latest.csv'\n",
    "# Local file\n",
    "DATA_FILE = 'data/OxCGRT_latest.csv'"
   ]
  },
  {
   "cell_type": "code",
   "execution_count": 3,
   "metadata": {},
   "outputs": [
    {
     "data": {
      "text/plain": [
       "('data/OxCGRT_latest.csv', <http.client.HTTPMessage at 0x7f43fe0dce10>)"
      ]
     },
     "execution_count": 3,
     "metadata": {},
     "output_type": "execute_result"
    }
   ],
   "source": [
    "import os\n",
    "import urllib.request\n",
    "if not os.path.exists('data'):\n",
    "    os.mkdir('data')\n",
    "urllib.request.urlretrieve(DATA_URL, DATA_FILE)"
   ]
  },
  {
   "cell_type": "code",
   "execution_count": 4,
   "metadata": {},
   "outputs": [],
   "source": [
    "# Load historical data from local file\n",
    "df = pd.read_csv(DATA_FILE, \n",
    "                 parse_dates=['Date'],\n",
    "                 encoding=\"ISO-8859-1\",\n",
    "                 dtype={\"RegionName\": str,\n",
    "                        \"RegionCode\": str},\n",
    "                 error_bad_lines=False)"
   ]
  },
  {
   "cell_type": "code",
   "execution_count": 5,
   "metadata": {},
   "outputs": [
    {
     "data": {
      "text/plain": [
       "Index(['CountryName', 'CountryCode', 'RegionName', 'RegionCode',\n",
       "       'Jurisdiction', 'Date', 'C1_School closing', 'C1_Flag',\n",
       "       'C2_Workplace closing', 'C2_Flag', 'C3_Cancel public events', 'C3_Flag',\n",
       "       'C4_Restrictions on gatherings', 'C4_Flag', 'C5_Close public transport',\n",
       "       'C5_Flag', 'C6_Stay at home requirements', 'C6_Flag',\n",
       "       'C7_Restrictions on internal movement', 'C7_Flag',\n",
       "       'C8_International travel controls', 'E1_Income support', 'E1_Flag',\n",
       "       'E2_Debt/contract relief', 'E3_Fiscal measures',\n",
       "       'E4_International support', 'H1_Public information campaigns',\n",
       "       'H1_Flag', 'H2_Testing policy', 'H3_Contact tracing',\n",
       "       'H4_Emergency investment in healthcare', 'H5_Investment in vaccines',\n",
       "       'H6_Facial Coverings', 'H6_Flag', 'H7_Vaccination policy', 'H7_Flag',\n",
       "       'M1_Wildcard', 'ConfirmedCases', 'ConfirmedDeaths', 'StringencyIndex',\n",
       "       'StringencyIndexForDisplay', 'StringencyLegacyIndex',\n",
       "       'StringencyLegacyIndexForDisplay', 'GovernmentResponseIndex',\n",
       "       'GovernmentResponseIndexForDisplay', 'ContainmentHealthIndex',\n",
       "       'ContainmentHealthIndexForDisplay', 'EconomicSupportIndex',\n",
       "       'EconomicSupportIndexForDisplay'],\n",
       "      dtype='object')"
      ]
     },
     "execution_count": 5,
     "metadata": {},
     "output_type": "execute_result"
    }
   ],
   "source": [
    "df.columns"
   ]
  },
  {
   "cell_type": "code",
   "execution_count": 6,
   "metadata": {},
   "outputs": [],
   "source": [
    "# Add RegionID column that combines CountryName and RegionName for easier manipulation of data\n",
    "df['GeoID'] = df['CountryName'] + '__' + df['RegionName'].astype(str)"
   ]
  },
  {
   "cell_type": "code",
   "execution_count": 7,
   "metadata": {},
   "outputs": [],
   "source": [
    "# Add new cases column\n",
    "df['NewCases'] = df.groupby('GeoID').ConfirmedCases.diff().fillna(0)"
   ]
  },
  {
   "cell_type": "code",
   "execution_count": 8,
   "metadata": {},
   "outputs": [],
   "source": [
    "# Keep only columns of interest\n",
    "id_cols = ['CountryName',\n",
    "           'RegionName',\n",
    "           'GeoID',\n",
    "           'Date']\n",
    "cases_col = ['NewCases']\n",
    "npi_cols = ['C1_School closing',\n",
    "            'C2_Workplace closing',\n",
    "            'C3_Cancel public events',\n",
    "            'C4_Restrictions on gatherings',\n",
    "            'C5_Close public transport',\n",
    "            'C6_Stay at home requirements',\n",
    "            'C7_Restrictions on internal movement',\n",
    "            'C8_International travel controls',\n",
    "            'H1_Public information campaigns',\n",
    "            'H2_Testing policy',\n",
    "            'H3_Contact tracing',\n",
    "            'H6_Facial Coverings']\n",
    "\n",
    "df = df[id_cols + cases_col + npi_cols]"
   ]
  },
  {
   "cell_type": "code",
   "execution_count": 9,
   "metadata": {},
   "outputs": [],
   "source": [
    "# Fill any missing case values by interpolation and setting NaNs to 0\n",
    "df.update(df.groupby('GeoID').NewCases.apply(\n",
    "    lambda group: group.interpolate()).fillna(0))"
   ]
  },
  {
   "cell_type": "code",
   "execution_count": 10,
   "metadata": {},
   "outputs": [],
   "source": [
    "# Fill any missing NPIs by assuming they are the same as previous day\n",
    "for npi_col in npi_cols:\n",
    "    df.update(df.groupby('GeoID')[npi_col].ffill().fillna(0))"
   ]
  },
  {
   "cell_type": "code",
   "execution_count": 11,
   "metadata": {},
   "outputs": [],
   "source": [
    "from pandas import read_csv\n",
    "from pandas import to_datetime\n",
    "from pandas import DataFrame\n",
    "from fbprophet import Prophet\n",
    "from sklearn.metrics import mean_absolute_error\n",
    "from matplotlib import pyplot\n",
    "\n",
    "# Setup utils functions\n",
    "HYPOTHETICAL_SUBMISSION_DATE = np.datetime64(\"2020-11-15\")\n",
    "\n",
    "\n",
    "def get_reduced_country_df(df: pd.DataFrame, countries: list)-> pd.DataFrame:\n",
    "    \"\"\"\n",
    "    Given a input dataset, returns a dataframe of the country specified\n",
    "    example get_reduced_country_df(df=df, countries=['Canada__nan'])\n",
    "    \"\"\"\n",
    "    return df[df['GeoID'].isin(countries)]\n",
    "\n",
    "def augment_prophet_cols(df: pd.DataFrame)-> pd.DataFrame:\n",
    "    \"\"\"Adds prophet specific ds & y cols to a df and sets index\n",
    "    to datetime\n",
    "    \"\"\"\n",
    "    df['ds'] = to_datetime(df['Date'])\n",
    "    df['y'] = df['NewCases']\n",
    "#     df.index = df['ds']\n",
    "    \n",
    "    return df\n",
    "    \n",
    "    \n",
    "def get_modeling_sets(countries:list):\n",
    "    \"\"\"Returns a tain/test dataset of countries specified\"\"\"\n",
    "    reduced_df = get_reduced_country_df(df=df, countries=countries)\n",
    "    \n",
    "    train = reduced_df[reduced_df.Date <= HYPOTHETICAL_SUBMISSION_DATE]\n",
    "    augmented_train = augment_prophet_cols(train)\n",
    "    \n",
    "    test = reduced_df[reduced_df.Date > HYPOTHETICAL_SUBMISSION_DATE]\n",
    "    augmented_test = augment_prophet_cols(test) \n",
    "    \n",
    "    return  augmented_train, augmented_test"
   ]
  },
  {
   "cell_type": "code",
   "execution_count": 12,
   "metadata": {},
   "outputs": [
    {
     "name": "stdout",
     "output_type": "stream",
     "text": [
      "Prophet 0.7.1\n"
     ]
    }
   ],
   "source": [
    "# install prophet & sktime\n",
    "#!pip install fbprophet\n",
    "#!pip install sktime[all_extras]\n",
    "\n",
    "# check prophet version\n",
    "import fbprophet\n",
    "# print version number\n",
    "print('Prophet %s' % fbprophet.__version__)"
   ]
  },
  {
   "cell_type": "code",
   "execution_count": 25,
   "metadata": {},
   "outputs": [],
   "source": [
    "# modeling utils\n",
    "def fit_multi_reg_model(features:list, train: list) :\n",
    "    \"\"\"Util function to define a multi regressor model\"\"\"\n",
    "    multi_reg_model = Prophet(interval_width=0.95, seasonality_mode='multiplicative')\n",
    "\n",
    "    for feature in features:\n",
    "        multi_reg_model.add_regressor(feature, standardize=False,)\n",
    "\n",
    "    multi_reg_model.fit(train)\n",
    "    \n",
    "    return multi_reg_model\n",
    "\n",
    "def get_predictions(model, test, country):\n",
    "    \"\"\"Forecast predictions from 16/11/2020 to 06-12-2020\"\"\"\n",
    "    future = test[\n",
    "        (np.datetime64(\"2020-12-06\") >= test.Date) &\n",
    "        (test.CountryName == country)\n",
    "    ]\n",
    "    future['ds'] = future['Date']\n",
    "    forecast = model.predict(future)\n",
    "    y_pred = forecast['yhat'].values\n",
    "    \n",
    "    return y_pred"
   ]
  },
  {
   "cell_type": "markdown",
   "metadata": {},
   "source": [
    "## Region Canada"
   ]
  },
  {
   "cell_type": "code",
   "execution_count": 26,
   "metadata": {},
   "outputs": [
    {
     "name": "stderr",
     "output_type": "stream",
     "text": [
      "INFO:fbprophet:Disabling yearly seasonality. Run prophet with yearly_seasonality=True to override this.\n",
      "INFO:fbprophet:Disabling daily seasonality. Run prophet with daily_seasonality=True to override this.\n"
     ]
    },
    {
     "name": "stdout",
     "output_type": "stream",
     "text": [
      "Canada MAE: 629.624\n"
     ]
    },
    {
     "data": {
      "image/png": "[encoded data removed]",
      "text/plain": [
       "<Figure size 432x288 with 1 Axes>"
      ]
     },
     "metadata": {
      "needs_background": "light"
     },
     "output_type": "display_data"
    }
   ],
   "source": [
    "# calculate MAE between expected and predicted values\n",
    "train, test = get_modeling_sets(['Canada__nan'])\n",
    "\n",
    "model =  fit_multi_reg_model(features=npi_cols, train=train)\n",
    "\n",
    "for country in ['Canada']:\n",
    "    y_multi_reg_pred = get_predictions(model, test, country)\n",
    "    y_true_df = test[(np.datetime64(\"2020-12-06\") >= test.Date)]\n",
    "    y_true= y_true_df[y_true_df['CountryName'] == 'Canada']['NewCases'].values\n",
    "    mae = mean_absolute_error(y_true, y_multi_reg_pred)\n",
    "    print(f'{country} MAE: %.3f' % mae)\n",
    "    # plot expected vs actual\n",
    "    pyplot.plot(y_true, label=country)\n",
    "    pyplot.plot(y_multi_reg_pred, label=f'Predicted {country}')\n",
    "\n",
    "pyplot.legend()\n",
    "pyplot.show()"
   ]
  },
  {
   "cell_type": "markdown",
   "metadata": {},
   "source": [
    "## Region US"
   ]
  },
  {
   "cell_type": "code",
   "execution_count": 29,
   "metadata": {},
   "outputs": [
    {
     "name": "stderr",
     "output_type": "stream",
     "text": [
      "INFO:fbprophet:Disabling yearly seasonality. Run prophet with yearly_seasonality=True to override this.\n",
      "INFO:fbprophet:Disabling daily seasonality. Run prophet with daily_seasonality=True to override this.\n"
     ]
    },
    {
     "name": "stdout",
     "output_type": "stream",
     "text": [
      "Aruba MAE: 21.747\n"
     ]
    },
    {
     "data": {
      "image/png": "[encoded data removed]",
      "text/plain": [
       "<Figure size 432x288 with 1 Axes>"
      ]
     },
     "metadata": {
      "needs_background": "light"
     },
     "output_type": "display_data"
    }
   ],
   "source": [
    "# calculate MAE between expected and predicted values\n",
    "train, test = get_modeling_sets(['Aruba__nan'])\n",
    "\n",
    "model =  fit_multi_reg_model(features=npi_cols, train=train)\n",
    "\n",
    "for country in ['Aruba']:\n",
    "    y_multi_reg_pred = get_predictions(model, test, country)\n",
    "    y_true_df = test[(np.datetime64(\"2020-12-06\") >= test.Date)]\n",
    "    y_true= y_true_df[y_true_df['CountryName'] == country]['NewCases'].values\n",
    "    mae = mean_absolute_error(y_true, y_multi_reg_pred)\n",
    "    print(f'{country} MAE: %.3f' % mae)\n",
    "    # plot expected vs actual\n",
    "    pyplot.plot(y_true, label=country)\n",
    "    pyplot.plot(y_multi_reg_pred, label=f'Predicted {country}')\n",
    "\n",
    "pyplot.legend()\n",
    "pyplot.show()"
   ]
  },
  {
   "cell_type": "code",
   "execution_count": null,
   "metadata": {},
   "outputs": [],
   "source": []
  }
 ],
 "metadata": {
  "kernelspec": {
   "display_name": "Python 3",
   "language": "python",
   "name": "python3"
  },
  "language_info": {
   "codemirror_mode": {
    "name": "ipython",
    "version": 3
   },
   "file_extension": ".py",
   "mimetype": "text/x-python",
   "name": "python",
   "nbconvert_exporter": "python",
   "pygments_lexer": "ipython3",
   "version": "3.7.6"
  },
  "pycharm": {
   "stem_cell": {
    "cell_type": "raw",
    "metadata": {
     "collapsed": false
    },
    "source": [
     "# Copyright 2020 (c) Cognizant Digital Business, Evolutionary AI. All rights reserved. Issued under the Apache 2.0 License."
    ]
   }
  }
 },
 "nbformat": 4,
 "nbformat_minor": 4
}
